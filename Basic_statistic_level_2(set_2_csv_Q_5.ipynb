{
  "nbformat": 4,
  "nbformat_minor": 0,
  "metadata": {
    "colab": {
      "provenance": []
    },
    "kernelspec": {
      "name": "python3",
      "display_name": "Python 3"
    },
    "language_info": {
      "name": "python"
    }
  },
  "cells": [
    {
      "cell_type": "code",
      "execution_count": null,
      "metadata": {
        "id": "61bd-2vLbWg3"
      },
      "outputs": [],
      "source": [
        "#import libraries"
      ]
    },
    {
      "cell_type": "code",
      "source": [
        "import numpy as np\n",
        "from scipy import stats\n",
        "from scipy.stats import norm"
      ],
      "metadata": {
        "id": "lEdnH3abbuHo"
      },
      "execution_count": 1,
      "outputs": []
    },
    {
      "cell_type": "code",
      "source": [
        "# Mean profits from two different divisions of a company is-mean1 +mean2\n",
        "Mean = 5+7\n",
        "print(\"mean profit is Rs\",Mean*45,'million')"
      ],
      "metadata": {
        "colab": {
          "base_uri": "https://localhost:8080/"
        },
        "id": "DUoGwUs8buKu",
        "outputId": "96c93753-db4e-4c81-b89a-82c77b4c4f5c"
      },
      "execution_count": 2,
      "outputs": [
        {
          "output_type": "stream",
          "name": "stdout",
          "text": [
            "mean profit is Rs 540 million\n"
          ]
        }
      ]
    },
    {
      "cell_type": "code",
      "source": [
        "# variance of profits from two different divisions of a company is - SD^2 -SD1^2 + SD2^2\n",
        "SD= np.sqrt((9)+(16))\n",
        "print('Standard deviation is Rs',SD*45,'million')"
      ],
      "metadata": {
        "colab": {
          "base_uri": "https://localhost:8080/"
        },
        "id": "8C0OaYhobuNf",
        "outputId": "54f598cb-a3d1-4c03-e9ec-0b05a9873373"
      },
      "execution_count": 4,
      "outputs": [
        {
          "output_type": "stream",
          "name": "stdout",
          "text": [
            "Standard deviation is Rs 225.0 million\n"
          ]
        }
      ]
    },
    {
      "cell_type": "code",
      "source": [
        "# A. specify a Rupee range (centered on the mean) such that it contains 95% probability for the annual profit of the company-\n",
        "print('Range is Rs',(stats.norm.interval(0.95,540, 225)),'in million')"
      ],
      "metadata": {
        "colab": {
          "base_uri": "https://localhost:8080/"
        },
        "id": "T30F8tdidQ0X",
        "outputId": "1738e0c3-fa6a-40d1-b081-3850bbaf7346"
      },
      "execution_count": 5,
      "outputs": [
        {
          "output_type": "stream",
          "name": "stdout",
          "text": [
            "Range is Rs (99.00810347848784, 980.9918965215122) in million\n"
          ]
        }
      ]
    },
    {
      "cell_type": "code",
      "source": [
        "# B. Specify the 5th percentage of profit (in Rupees) for the company\n",
        "# To compute 5th percentage, we use the formula X=μ + Zσ; where from z table , 5 percentile= -1.645\n",
        "\n",
        "X=540+(-1.645)*(225)\n",
        "print('5th percentile of profits(in million Rupees) is',np.round(X,))"
      ],
      "metadata": {
        "colab": {
          "base_uri": "https://localhost:8080/"
        },
        "id": "_YJ8Zt-meAef",
        "outputId": "d72ac825-6b39-48c9-9f94-14be31b28db2"
      },
      "execution_count": 8,
      "outputs": [
        {
          "output_type": "stream",
          "name": "stdout",
          "text": [
            "5th percentile of profits(in million Rupees) is 170.0\n"
          ]
        }
      ]
    },
    {
      "cell_type": "code",
      "source": [
        "# C.Which of the two divisions has a larger probability of making a loss in a given year?\n",
        "# Probability of Division 1 making a loss P(X<0)\n",
        "stats.norm.cdf(0,5,3)"
      ],
      "metadata": {
        "colab": {
          "base_uri": "https://localhost:8080/"
        },
        "id": "6PtwtwUYbuTg",
        "outputId": "f69bbb72-4949-45ab-89f9-1ec57d2283d1"
      },
      "execution_count": 13,
      "outputs": [
        {
          "output_type": "execute_result",
          "data": {
            "text/plain": [
              "0.0477903522728147"
            ]
          },
          "metadata": {},
          "execution_count": 13
        }
      ]
    },
    {
      "cell_type": "code",
      "source": [
        "# Probability of Divisions 2 making a loss P(X<0)\n",
        "stats.norm.cdf(0,7,4)"
      ],
      "metadata": {
        "colab": {
          "base_uri": "https://localhost:8080/"
        },
        "id": "uDhFwH8AgitT",
        "outputId": "8a59ef68-fa4f-4e51-9dd5-170b5cf1d718"
      },
      "execution_count": 14,
      "outputs": [
        {
          "output_type": "execute_result",
          "data": {
            "text/plain": [
              "0.040059156863817086"
            ]
          },
          "metadata": {},
          "execution_count": 14
        }
      ]
    },
    {
      "cell_type": "code",
      "source": [],
      "metadata": {
        "id": "1Kx7Mwvibutw"
      },
      "execution_count": null,
      "outputs": []
    }
  ]
}